{
 "cells": [
  {
   "cell_type": "code",
   "execution_count": 1,
   "metadata": {
    "collapsed": true
   },
   "outputs": [],
   "source": [
    "p = 47\n",
    "g = 5\n",
    "X = 38\n",
    "Y = 3"
   ]
  },
  {
   "cell_type": "code",
   "execution_count": 8,
   "metadata": {
    "collapsed": false
   },
   "outputs": [
    {
     "name": "stdout",
     "output_type": "stream",
     "text": [
      "1   5 5\n",
      "2   25 25\n",
      "3   125 31\n",
      "4   625 14\n",
      "5   3125 23\n",
      "6   15625 21\n",
      "7   78125 11\n",
      "8   390625 8\n",
      "9   1953125 40\n",
      "10   9765625 12\n",
      "11   48828125 13\n",
      "12   244140625 18\n",
      "13   1220703125 43\n",
      "14   6103515625 27\n",
      "15   30517578125 41\n",
      "16   152587890625 17\n",
      "17   762939453125 38\n",
      "18   3814697265625 2\n",
      "19   19073486328125 10\n",
      "20   95367431640625 3\n"
     ]
    }
   ],
   "source": [
    "x = 0\n",
    "y = 0\n",
    "for i in range(1, 21):\n",
    "    print(i, \" \", (g**i), (g**i)%p)\n",
    "    "
   ]
  },
  {
   "cell_type": "code",
   "execution_count": 4,
   "metadata": {
    "collapsed": false
   },
   "outputs": [
    {
     "name": "stdout",
     "output_type": "stream",
     "text": [
      "2\n"
     ]
    }
   ],
   "source": [
    "print((X**20)%p)"
   ]
  },
  {
   "cell_type": "code",
   "execution_count": null,
   "metadata": {
    "collapsed": true
   },
   "outputs": [],
   "source": []
  }
 ],
 "metadata": {
  "kernelspec": {
   "display_name": "Python 3",
   "language": "python",
   "name": "python3"
  },
  "language_info": {
   "codemirror_mode": {
    "name": "ipython",
    "version": 3
   },
   "file_extension": ".py",
   "mimetype": "text/x-python",
   "name": "python",
   "nbconvert_exporter": "python",
   "pygments_lexer": "ipython3",
   "version": "3.6.0"
  }
 },
 "nbformat": 4,
 "nbformat_minor": 2
}
